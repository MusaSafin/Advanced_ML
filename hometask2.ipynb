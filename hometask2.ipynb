{
  "nbformat": 4,
  "nbformat_minor": 0,
  "metadata": {
    "colab": {
      "name": "hometask2.ipynb",
      "provenance": [],
      "collapsed_sections": []
    },
    "kernelspec": {
      "name": "python3",
      "display_name": "Python 3"
    },
    "language_info": {
      "name": "python"
    }
  },
  "cells": [
    {
      "cell_type": "markdown",
      "source": [
        "### Building a probabilistic rating system for the sports version of “What? Where? When?\" (ChGK)"
      ],
      "metadata": {
        "id": "EAPVFeIo_nrS"
      }
    },
    {
      "cell_type": "markdown",
      "source": [
        "Background: in the sports version of “What? Where? When?” competing teams answer the same questions. After a minute of discussion, the teams write down and hand over their answers on cards; the winner is the one who answered the most questions. The tournament usually consists of several dozen questions (usually 36 or 45, sometimes 60, more rarely). There are often synchronous tournaments when the same questions are answered by teams on hundreds of playgrounds around the world, i.e. hundreds or even thousands of teams can play in one tournament. Accordingly, we need:\n",
        "\n",
        "\n",
        "*   build a rating list that is able to non-trivially predict the results of future tournaments;\n",
        "*   at the same time, since ChGK is a hobby, and there are no contracts here, players constantly move from team to team, a strong player can play for another team for one tournament, etc.; therefore, the unit of the rating list should not be a team, but a separate player;\n",
        "*   and what greatly simplifies the task and translates it into the field of homework for the EM algorithm is the nature of the data: starting from some point, all the team's survey results began to be entered into the results database, i.e. there will be entries in the data like “which team answered which question correctly\".\n"
      ],
      "metadata": {
        "id": "TXOnCQoilcHM"
      }
    },
    {
      "cell_type": "code",
      "source": [
        "import pickle\n",
        "from collections import defaultdict\n",
        "import numpy as np\n",
        "from tqdm import tqdm\n",
        "import pandas as pd\n",
        "from sklearn.linear_model import LogisticRegression\n",
        "import matplotlib.pyplot as plt\n",
        "from scipy.stats import kendalltau, spearmanr\n",
        "import gc"
      ],
      "metadata": {
        "id": "qnPfjZb_DrB3"
      },
      "execution_count": null,
      "outputs": []
    },
    {
      "cell_type": "code",
      "source": [
        "from google.colab import drive\n",
        "drive.mount(\"/content/drive\")"
      ],
      "metadata": {
        "colab": {
          "base_uri": "https://localhost:8080/"
        },
        "id": "VbrbXvJ0DvQd",
        "outputId": "01adc30c-d600-4bd2-ebdb-3630d581cd44"
      },
      "execution_count": null,
      "outputs": [
        {
          "output_type": "stream",
          "name": "stdout",
          "text": [
            "Drive already mounted at /content/drive; to attempt to forcibly remount, call drive.mount(\"/content/drive\", force_remount=True).\n"
          ]
        }
      ]
    },
    {
      "cell_type": "markdown",
      "source": [
        "#### Getting and parsing data"
      ],
      "metadata": {
        "id": "V-L1ztcVCsy8"
      }
    },
    {
      "cell_type": "markdown",
      "source": [
        "Data downoaded from https://rating.chgk.info/"
      ],
      "metadata": {
        "id": "MJKCTXCQBSrm"
      }
    },
    {
      "cell_type": "code",
      "source": [
        "players = pickle.load(open(\"/content/drive/MyDrive/MADE/2_полугодие_MADE/Advanced_ML/hw2/players.pkl\", \"rb\"))\n",
        "results = pickle.load(open(\"/content/drive/MyDrive/MADE/2_полугодие_MADE/Advanced_ML/hw2/results.pkl\", \"rb\"))\n",
        "tournaments = pickle.load(open(\"/content/drive/MyDrive/MADE/2_полугодие_MADE/Advanced_ML/hw2/tournaments.pkl\", \"rb\"))"
      ],
      "metadata": {
        "id": "mRPeyrhiATUX"
      },
      "execution_count": null,
      "outputs": []
    },
    {
      "cell_type": "code",
      "source": [
        "type(tournaments)"
      ],
      "metadata": {
        "id": "gYLX380QElvx",
        "colab": {
          "base_uri": "https://localhost:8080/"
        },
        "outputId": "83031517-5b04-4835-91ad-549c264ae2ca"
      },
      "execution_count": null,
      "outputs": [
        {
          "output_type": "execute_result",
          "data": {
            "text/plain": [
              "dict"
            ]
          },
          "metadata": {},
          "execution_count": 4
        }
      ]
    },
    {
      "cell_type": "code",
      "source": [
        "len(players), len(results), len(tournaments)"
      ],
      "metadata": {
        "colab": {
          "base_uri": "https://localhost:8080/"
        },
        "id": "R8PEUqTga6Jj",
        "outputId": "3768507c-c7d6-46fd-8303-c379e4ca57fb"
      },
      "execution_count": null,
      "outputs": [
        {
          "output_type": "execute_result",
          "data": {
            "text/plain": [
              "(204063, 5528, 5528)"
            ]
          },
          "metadata": {},
          "execution_count": 5
        }
      ]
    },
    {
      "cell_type": "code",
      "source": [
        "tournaments[1]"
      ],
      "metadata": {
        "colab": {
          "base_uri": "https://localhost:8080/"
        },
        "id": "5vWYGJ9HdiDu",
        "outputId": "ad360589-5827-4a34-fcc6-41258dc93d45"
      },
      "execution_count": null,
      "outputs": [
        {
          "output_type": "execute_result",
          "data": {
            "text/plain": [
              "{'dateEnd': '2003-07-27T00:00:00+04:00',\n",
              " 'dateStart': '2003-07-25T00:00:00+04:00',\n",
              " 'id': 1,\n",
              " 'name': 'Чемпионат Южного Кавказа',\n",
              " 'orgcommittee': [],\n",
              " 'questionQty': None,\n",
              " 'season': '/seasons/1',\n",
              " 'synchData': None,\n",
              " 'type': {'id': 2, 'name': 'Обычный'}}"
            ]
          },
          "metadata": {},
          "execution_count": 6
        }
      ]
    },
    {
      "cell_type": "code",
      "source": [
        "tournaments_train, tournaments_test = {}, {}\n",
        "\n",
        "for id, info in tqdm(tournaments.items()):\n",
        "    if results[id] and \"mask\" in results[id][0]:\n",
        "        if results[id][0][\"mask\"] is not None and len(results[id][0][\"teamMembers\"]) > 0:\n",
        "            if info[\"dateStart\"][:4] == \"2019\":\n",
        "                tournaments_train[id] = info\n",
        "            elif info[\"dateStart\"][:4] == \"2020\":\n",
        "                tournaments_test[id] = info"
      ],
      "metadata": {
        "id": "rC1cg9grdD-r",
        "colab": {
          "base_uri": "https://localhost:8080/"
        },
        "outputId": "6afecbee-e4b6-448f-fe4d-40f8fe6632c1"
      },
      "execution_count": null,
      "outputs": [
        {
          "output_type": "stream",
          "name": "stderr",
          "text": [
            "100%|██████████| 5528/5528 [00:00<00:00, 261779.96it/s]\n"
          ]
        }
      ]
    },
    {
      "cell_type": "code",
      "source": [
        "len(tournaments_train), len(tournaments_test)"
      ],
      "metadata": {
        "colab": {
          "base_uri": "https://localhost:8080/"
        },
        "id": "Tj1hJ09ZirqU",
        "outputId": "e4dac338-355c-4502-c206-63292ed9441a"
      },
      "execution_count": null,
      "outputs": [
        {
          "output_type": "execute_result",
          "data": {
            "text/plain": [
              "(674, 173)"
            ]
          },
          "metadata": {},
          "execution_count": 8
        }
      ]
    },
    {
      "cell_type": "markdown",
      "source": [
        "\n",
        "\n",
        "*   questionsTotal - number of correct answers\n",
        "*   len(mask) - number of questions\n",
        "*   'X' value in mask - canceled question\n",
        "*   tournament types: \"Normal\" \"Synchronous\" and \"Strictly synchronous\n",
        "\n",
        "\n",
        "\n"
      ],
      "metadata": {
        "id": "StBcNNEYocii"
      }
    },
    {
      "cell_type": "markdown",
      "source": [
        "#### Baseline model"
      ],
      "metadata": {
        "id": "WfWiThOvri4g"
      }
    },
    {
      "cell_type": "markdown",
      "source": [
        "Let's write a function that counts the proportion of correct answers for each player."
      ],
      "metadata": {
        "id": "DtRsiJgtfFiR"
      }
    },
    {
      "cell_type": "code",
      "source": [
        "def get_player_scores(tournaments):\n",
        "    player_to_correct_ans_num = defaultdict(int)\n",
        "    player_to_ans_num = defaultdict(int)\n",
        "\n",
        "    for id in tqdm(tournaments):\n",
        "        for info in results[id]:\n",
        "            mask = info[\"mask\"]\n",
        "            if mask != None:\n",
        "                for players in info[\"teamMembers\"]:\n",
        "                    player_to_correct_ans_num[players[\"player\"][\"id\"]] += mask.count('1')\n",
        "                    player_to_ans_num[players[\"player\"][\"id\"]] += len(mask)\n",
        "\n",
        "\n",
        "    player_id_to_score = {player_id: player_to_correct_ans_num[player_id] / player_to_ans_num[player_id] for player_id in player_to_ans_num}\n",
        "    return player_id_to_score"
      ],
      "metadata": {
        "id": "i47S8tI8svF-"
      },
      "execution_count": null,
      "outputs": []
    },
    {
      "cell_type": "code",
      "source": [
        "player_ids_to_scores = get_player_scores(tournaments_train)"
      ],
      "metadata": {
        "id": "OOR8sd8Iaw2z",
        "colab": {
          "base_uri": "https://localhost:8080/"
        },
        "outputId": "7955c08c-a3bb-4dae-cc7f-3d34f8120d73"
      },
      "execution_count": null,
      "outputs": [
        {
          "output_type": "stream",
          "name": "stderr",
          "text": [
            "100%|██████████| 674/674 [00:00<00:00, 802.12it/s]\n"
          ]
        }
      ]
    },
    {
      "cell_type": "code",
      "source": [
        "# player_ids_to_scores"
      ],
      "metadata": {
        "id": "_frl-5CMIMzM"
      },
      "execution_count": null,
      "outputs": []
    },
    {
      "cell_type": "markdown",
      "source": [
        "Let's write a function that considers the complexity of each question in tournament."
      ],
      "metadata": {
        "id": "Wz3U3S9efV9_"
      }
    },
    {
      "cell_type": "code",
      "source": [
        "def get_mask_array(mask):\n",
        "    mask = mask.replace('X', '0')\n",
        "    mask = mask.replace('?', '0')\n",
        "    return list(map(lambda x: int(x), mask))"
      ],
      "metadata": {
        "id": "8aZRjjK9Kepf"
      },
      "execution_count": null,
      "outputs": []
    },
    {
      "cell_type": "code",
      "source": [
        "def get_question_complexities(tournaments):\n",
        "    tournament_to_questions_complexity = defaultdict(int)\n",
        "    for id in tqdm(tournaments):\n",
        "        masks = []\n",
        "        try:    # Sometimes info[\"mask\"] = None\n",
        "            for info in results[id]:\n",
        "                # mask = info[\"mask\"]\n",
        "                # mask_replaced = mask.replace('X', '0')\n",
        "                # mask_replaced = mask_replaced.replace('?', '0')\n",
        "                masks.append(get_mask_array(info[\"mask\"]))\n",
        "            if not all(list(map(lambda x: len(x) == len(masks[0]), masks))):    # mask lengths do not always match\n",
        "                continue\n",
        "            assert(np.array(masks).shape[0] == len(results[id]))\n",
        "            question_complexity = list(map(lambda x: 1 - x / len(results[id]), np.array(masks).sum(axis=0)))\n",
        "            tournament_to_questions_complexity[id] = question_complexity\n",
        "        except AttributeError as a:\n",
        "            continue\n",
        "    return tournament_to_questions_complexity"
      ],
      "metadata": {
        "id": "byPweyAHuF2L"
      },
      "execution_count": null,
      "outputs": []
    },
    {
      "cell_type": "code",
      "source": [
        "train_question_complexities = get_question_complexities(tournaments_train)"
      ],
      "metadata": {
        "id": "DdBpDZMGl23Y",
        "colab": {
          "base_uri": "https://localhost:8080/"
        },
        "outputId": "57ec509c-b691-47bf-a51f-e3cc28c43637"
      },
      "execution_count": null,
      "outputs": [
        {
          "output_type": "stream",
          "name": "stderr",
          "text": [
            "100%|██████████| 674/674 [00:04<00:00, 145.11it/s]\n"
          ]
        }
      ]
    },
    {
      "cell_type": "code",
      "source": [
        "len(train_question_complexities)"
      ],
      "metadata": {
        "colab": {
          "base_uri": "https://localhost:8080/"
        },
        "id": "y9cNL-vMkkWi",
        "outputId": "8fb1b008-d81c-40f1-8b49-9f9730b104f5"
      },
      "execution_count": null,
      "outputs": [
        {
          "output_type": "execute_result",
          "data": {
            "text/plain": [
              "660"
            ]
          },
          "metadata": {},
          "execution_count": 15
        }
      ]
    },
    {
      "cell_type": "markdown",
      "source": [
        "Let's create a dataset for logistic regression model."
      ],
      "metadata": {
        "id": "4wGA8tKs0s0u"
      }
    },
    {
      "cell_type": "code",
      "source": [
        "# train_question_complexities[4772][:5]"
      ],
      "metadata": {
        "id": "lwPg4_xeiXKx"
      },
      "execution_count": null,
      "outputs": []
    },
    {
      "cell_type": "code",
      "source": [
        "# results[4774][0]"
      ],
      "metadata": {
        "id": "eXbp3UByM4ts"
      },
      "execution_count": null,
      "outputs": []
    },
    {
      "cell_type": "code",
      "source": [
        "for elem in results[4774]:\n",
        "    print(elem[\"position\"], end=\" \")"
      ],
      "metadata": {
        "colab": {
          "base_uri": "https://localhost:8080/"
        },
        "id": "McgHeRrrLVBI",
        "outputId": "8bc9aabb-3408-4a7b-b706-a8246aabfc4d"
      },
      "execution_count": null,
      "outputs": [
        {
          "output_type": "stream",
          "name": "stdout",
          "text": [
            "1.5 1.5 3 4 5.5 5.5 7 8.5 8.5 10.5 10.5 14 14 14 14 14 19 19 19 19 19 25 25 25 25 25 25 25 31.5 31.5 31.5 31.5 31.5 31.5 36.5 36.5 36.5 36.5 42.5 42.5 42.5 42.5 42.5 42.5 42.5 42.5 49.5 49.5 49.5 49.5 49.5 49.5 55 55 55 55 55 59 59 59 63.5 63.5 63.5 63.5 63.5 63.5 68.5 68.5 68.5 68.5 73 73 73 73 73 78.5 78.5 78.5 78.5 78.5 78.5 82.5 82.5 84.5 84.5 87 87 87 89.5 89.5 "
          ]
        }
      ]
    },
    {
      "cell_type": "markdown",
      "source": [
        "Let's create a dataset containing:\n",
        "\n",
        "1.   player id\n",
        "2.   tournament id + question id\n",
        "3.   player correct answer pct\n",
        "4.   complexity of the question\n",
        "5.   team position\n",
        "6.   number of commands\n",
        "7.   answer to question\n",
        "\n",
        "\n",
        "\n"
      ],
      "metadata": {
        "id": "qShCWE7wO08D"
      }
    },
    {
      "cell_type": "code",
      "source": [
        "dataset_array = []\n",
        "for tournament_id, question_complexities in tqdm(train_question_complexities.items()):\n",
        "    team_size = len(results[tournament_id])\n",
        "    for info in results[tournament_id]:\n",
        "        position = info[\"position\"] / team_size\n",
        "        mask = info[\"mask\"]\n",
        "        mask = get_mask_array(mask)\n",
        "        for players in info[\"teamMembers\"]:\n",
        "            for i, q_complexity_array in enumerate(zip(mask, question_complexities)):\n",
        "                dataset_array.append([players[\"player\"][\"id\"],\n",
        "                                            str(tournament_id) + \"_\" + str(i),\n",
        "                                            player_ids_to_scores[players[\"player\"][\"id\"]],\n",
        "                                            q_complexity_array[1],\n",
        "                                            position,\n",
        "                                            team_size,\n",
        "                                            q_complexity_array[0]])"
      ],
      "metadata": {
        "id": "qoYR1dtt6bIA",
        "colab": {
          "base_uri": "https://localhost:8080/"
        },
        "outputId": "f95646a0-488a-4586-8c28-4802cf51bf09"
      },
      "execution_count": null,
      "outputs": [
        {
          "output_type": "stream",
          "name": "stderr",
          "text": [
            "100%|██████████| 660/660 [00:55<00:00, 11.80it/s]\n"
          ]
        }
      ]
    },
    {
      "cell_type": "code",
      "source": [
        "len(question_complexities)"
      ],
      "metadata": {
        "colab": {
          "base_uri": "https://localhost:8080/"
        },
        "id": "8pw6CRBmAShA",
        "outputId": "dcb56d89-0f9b-4cf0-80d6-6e5e217a3e7a"
      },
      "execution_count": null,
      "outputs": [
        {
          "output_type": "execute_result",
          "data": {
            "text/plain": [
              "36"
            ]
          },
          "metadata": {},
          "execution_count": 20
        }
      ]
    },
    {
      "cell_type": "code",
      "source": [
        "len(dataset_array)"
      ],
      "metadata": {
        "colab": {
          "base_uri": "https://localhost:8080/"
        },
        "id": "9aPtgutUXuVD",
        "outputId": "0346590d-2644-483e-9d0a-12b1ee174f99"
      },
      "execution_count": null,
      "outputs": [
        {
          "output_type": "execute_result",
          "data": {
            "text/plain": [
              "16215179"
            ]
          },
          "metadata": {},
          "execution_count": 21
        }
      ]
    },
    {
      "cell_type": "code",
      "source": [
        "for tournament_id, question_complexities in train_question_complexities.items():\n",
        "    print(tournament_id, question_complexities)\n",
        "    break"
      ],
      "metadata": {
        "colab": {
          "base_uri": "https://localhost:8080/"
        },
        "id": "3uZv-BQYOOxx",
        "outputId": "676d3f44-dcbc-4982-e624-090760d263b9"
      },
      "execution_count": null,
      "outputs": [
        {
          "output_type": "stream",
          "name": "stdout",
          "text": [
            "4772 [0.11688311688311692, 0.22077922077922074, 0.5541125541125541, 0.48051948051948057, 0.12121212121212122, 0.17748917748917747, 0.17748917748917747, 0.8051948051948052, 0.8008658008658008, 0.9696969696969697, 0.16883116883116878, 0.48484848484848486, 0.025974025974025983, 0.5064935064935066, 0.5411255411255411, 0.16883116883116878, 0.5238095238095238, 0.4458874458874459, 0.6580086580086579, 0.961038961038961, 0.11688311688311692, 0.6017316017316017, 0.5584415584415585, 0.4285714285714286, 0.9177489177489178, 0.7099567099567099, 0.316017316017316, 0.9523809523809523, 0.961038961038961, 0.32900432900432897, 0.6493506493506493, 0.5584415584415585, 0.6753246753246753, 0.8528138528138528, 0.7445887445887446, 0.9307359307359307]\n"
          ]
        }
      ]
    },
    {
      "cell_type": "markdown",
      "source": [
        "An attempt to make a pd DataFrame failed due to lack of RAM :) But there is a life hack"
      ],
      "metadata": {
        "id": "-dholbDSW2Ty"
      }
    },
    {
      "cell_type": "code",
      "source": [
        "# players_df = pd.DataFrame(dataset_array, \n",
        "#                           columns=[\"id\", \"tour_&_quest_id\", \"player_score\", \"quest_compl\", \"team_pos\", \"team_size\", \"answer\"]).astype({\"id\": \"int\", \n",
        "#                                                                                                                                        \"tour_&_quest_id\": \"object\",\n",
        "#                                                                                                                                        \"player_score\": \"float\", \n",
        "#                                                                                                                                        \"quest_compl\": \"float\", \n",
        "#                                                                                                                                        \"team_pos\": \"int\",\n",
        "#                                                                                                                                        \"team_size\": \"float\",\n",
        "#                                                                                                                                        \"answer\": \"int\"})"
      ],
      "metadata": {
        "id": "VuycAxJQXDTG"
      },
      "execution_count": null,
      "outputs": []
    },
    {
      "cell_type": "code",
      "source": [
        "part_len = len(dataset_array) // 10\n",
        "\n",
        "players_df = pd.DataFrame(dataset_array[:part_len], \n",
        "                          columns=[\"id\", \"tour_&_quest_id\", \"player_score\", \"quest_compl\", \"team_pos\", \"team_size\", \"answer\"]).astype({\"id\": \"int\", \n",
        "                                                                                                                                       \"tour_&_quest_id\": \"object\",\n",
        "                                                                                                                                       \"player_score\": \"float\", \n",
        "                                                                                                                                       \"quest_compl\": \"float\", \n",
        "                                                                                                                                       \"team_pos\": \"float\",\n",
        "                                                                                                                                       \"team_size\": \"float\",\n",
        "                                                                                                                                       \"answer\": \"float\"})\n",
        "dataset_array = dataset_array[part_len:]\n",
        "\n",
        "for _ in tqdm(range(10)):\n",
        "    new_df = pd.DataFrame(dataset_array[:part_len], \n",
        "                          columns=[\"id\", \"tour_&_quest_id\", \"player_score\", \"quest_compl\", \"team_pos\", \"team_size\", \"answer\"]).astype({\"id\": \"int\", \n",
        "                                                                                                                                       \"tour_&_quest_id\": \"object\",\n",
        "                                                                                                                                       \"player_score\": \"float\", \n",
        "                                                                                                                                       \"quest_compl\": \"float\", \n",
        "                                                                                                                                       \"team_pos\": \"int\",\n",
        "                                                                                                                                       \"team_size\": \"float\",\n",
        "                                                                                                                                       \"answer\": \"int\"})\n",
        "    frames = [players_df, new_df]\n",
        "    players_df = pd.concat(frames)\n",
        "    dataset_array = dataset_array[part_len:]"
      ],
      "metadata": {
        "colab": {
          "base_uri": "https://localhost:8080/"
        },
        "id": "RYxAOYhwg4dH",
        "outputId": "5e9b3069-7307-4b42-9056-db24a39d2c03"
      },
      "execution_count": null,
      "outputs": [
        {
          "output_type": "stream",
          "name": "stderr",
          "text": [
            "100%|██████████| 10/10 [00:27<00:00,  2.72s/it]\n"
          ]
        }
      ]
    },
    {
      "cell_type": "code",
      "source": [
        "len(dataset_array), len(players_df)"
      ],
      "metadata": {
        "colab": {
          "base_uri": "https://localhost:8080/"
        },
        "id": "8lHJZCaMBjom",
        "outputId": "498bf0f1-7df1-4691-a88f-f9c9bb19898c"
      },
      "execution_count": null,
      "outputs": [
        {
          "output_type": "execute_result",
          "data": {
            "text/plain": [
              "(0, 16215179)"
            ]
          },
          "metadata": {},
          "execution_count": 25
        }
      ]
    },
    {
      "cell_type": "code",
      "source": [
        "players_df.head()"
      ],
      "metadata": {
        "colab": {
          "base_uri": "https://localhost:8080/",
          "height": 250
        },
        "id": "VwZMNbUXFWHd",
        "outputId": "e327f4f7-ef8f-4825-aaab-35b407e1d7d5"
      },
      "execution_count": null,
      "outputs": [
        {
          "output_type": "execute_result",
          "data": {
            "text/plain": [
              "     id tour_&_quest_id  player_score  quest_compl  team_pos  team_size  \\\n",
              "0  6212          4772_0      0.706069     0.116883  0.004329      231.0   \n",
              "1  6212          4772_1      0.706069     0.220779  0.004329      231.0   \n",
              "2  6212          4772_2      0.706069     0.554113  0.004329      231.0   \n",
              "3  6212          4772_3      0.706069     0.480519  0.004329      231.0   \n",
              "4  6212          4772_4      0.706069     0.121212  0.004329      231.0   \n",
              "\n",
              "   answer  \n",
              "0     1.0  \n",
              "1     1.0  \n",
              "2     1.0  \n",
              "3     1.0  \n",
              "4     1.0  "
            ],
            "text/html": [
              "\n",
              "  <div id=\"df-2a6629a0-50ab-4c55-84f7-db813cba4ebe\">\n",
              "    <div class=\"colab-df-container\">\n",
              "      <div>\n",
              "<style scoped>\n",
              "    .dataframe tbody tr th:only-of-type {\n",
              "        vertical-align: middle;\n",
              "    }\n",
              "\n",
              "    .dataframe tbody tr th {\n",
              "        vertical-align: top;\n",
              "    }\n",
              "\n",
              "    .dataframe thead th {\n",
              "        text-align: right;\n",
              "    }\n",
              "</style>\n",
              "<table border=\"1\" class=\"dataframe\">\n",
              "  <thead>\n",
              "    <tr style=\"text-align: right;\">\n",
              "      <th></th>\n",
              "      <th>id</th>\n",
              "      <th>tour_&amp;_quest_id</th>\n",
              "      <th>player_score</th>\n",
              "      <th>quest_compl</th>\n",
              "      <th>team_pos</th>\n",
              "      <th>team_size</th>\n",
              "      <th>answer</th>\n",
              "    </tr>\n",
              "  </thead>\n",
              "  <tbody>\n",
              "    <tr>\n",
              "      <th>0</th>\n",
              "      <td>6212</td>\n",
              "      <td>4772_0</td>\n",
              "      <td>0.706069</td>\n",
              "      <td>0.116883</td>\n",
              "      <td>0.004329</td>\n",
              "      <td>231.0</td>\n",
              "      <td>1.0</td>\n",
              "    </tr>\n",
              "    <tr>\n",
              "      <th>1</th>\n",
              "      <td>6212</td>\n",
              "      <td>4772_1</td>\n",
              "      <td>0.706069</td>\n",
              "      <td>0.220779</td>\n",
              "      <td>0.004329</td>\n",
              "      <td>231.0</td>\n",
              "      <td>1.0</td>\n",
              "    </tr>\n",
              "    <tr>\n",
              "      <th>2</th>\n",
              "      <td>6212</td>\n",
              "      <td>4772_2</td>\n",
              "      <td>0.706069</td>\n",
              "      <td>0.554113</td>\n",
              "      <td>0.004329</td>\n",
              "      <td>231.0</td>\n",
              "      <td>1.0</td>\n",
              "    </tr>\n",
              "    <tr>\n",
              "      <th>3</th>\n",
              "      <td>6212</td>\n",
              "      <td>4772_3</td>\n",
              "      <td>0.706069</td>\n",
              "      <td>0.480519</td>\n",
              "      <td>0.004329</td>\n",
              "      <td>231.0</td>\n",
              "      <td>1.0</td>\n",
              "    </tr>\n",
              "    <tr>\n",
              "      <th>4</th>\n",
              "      <td>6212</td>\n",
              "      <td>4772_4</td>\n",
              "      <td>0.706069</td>\n",
              "      <td>0.121212</td>\n",
              "      <td>0.004329</td>\n",
              "      <td>231.0</td>\n",
              "      <td>1.0</td>\n",
              "    </tr>\n",
              "  </tbody>\n",
              "</table>\n",
              "</div>\n",
              "      <button class=\"colab-df-convert\" onclick=\"convertToInteractive('df-2a6629a0-50ab-4c55-84f7-db813cba4ebe')\"\n",
              "              title=\"Convert this dataframe to an interactive table.\"\n",
              "              style=\"display:none;\">\n",
              "        \n",
              "  <svg xmlns=\"http://www.w3.org/2000/svg\" height=\"24px\"viewBox=\"0 0 24 24\"\n",
              "       width=\"24px\">\n",
              "    <path d=\"M0 0h24v24H0V0z\" fill=\"none\"/>\n",
              "    <path d=\"M18.56 5.44l.94 2.06.94-2.06 2.06-.94-2.06-.94-.94-2.06-.94 2.06-2.06.94zm-11 1L8.5 8.5l.94-2.06 2.06-.94-2.06-.94L8.5 2.5l-.94 2.06-2.06.94zm10 10l.94 2.06.94-2.06 2.06-.94-2.06-.94-.94-2.06-.94 2.06-2.06.94z\"/><path d=\"M17.41 7.96l-1.37-1.37c-.4-.4-.92-.59-1.43-.59-.52 0-1.04.2-1.43.59L10.3 9.45l-7.72 7.72c-.78.78-.78 2.05 0 2.83L4 21.41c.39.39.9.59 1.41.59.51 0 1.02-.2 1.41-.59l7.78-7.78 2.81-2.81c.8-.78.8-2.07 0-2.86zM5.41 20L4 18.59l7.72-7.72 1.47 1.35L5.41 20z\"/>\n",
              "  </svg>\n",
              "      </button>\n",
              "      \n",
              "  <style>\n",
              "    .colab-df-container {\n",
              "      display:flex;\n",
              "      flex-wrap:wrap;\n",
              "      gap: 12px;\n",
              "    }\n",
              "\n",
              "    .colab-df-convert {\n",
              "      background-color: #E8F0FE;\n",
              "      border: none;\n",
              "      border-radius: 50%;\n",
              "      cursor: pointer;\n",
              "      display: none;\n",
              "      fill: #1967D2;\n",
              "      height: 32px;\n",
              "      padding: 0 0 0 0;\n",
              "      width: 32px;\n",
              "    }\n",
              "\n",
              "    .colab-df-convert:hover {\n",
              "      background-color: #E2EBFA;\n",
              "      box-shadow: 0px 1px 2px rgba(60, 64, 67, 0.3), 0px 1px 3px 1px rgba(60, 64, 67, 0.15);\n",
              "      fill: #174EA6;\n",
              "    }\n",
              "\n",
              "    [theme=dark] .colab-df-convert {\n",
              "      background-color: #3B4455;\n",
              "      fill: #D2E3FC;\n",
              "    }\n",
              "\n",
              "    [theme=dark] .colab-df-convert:hover {\n",
              "      background-color: #434B5C;\n",
              "      box-shadow: 0px 1px 3px 1px rgba(0, 0, 0, 0.15);\n",
              "      filter: drop-shadow(0px 1px 2px rgba(0, 0, 0, 0.3));\n",
              "      fill: #FFFFFF;\n",
              "    }\n",
              "  </style>\n",
              "\n",
              "      <script>\n",
              "        const buttonEl =\n",
              "          document.querySelector('#df-2a6629a0-50ab-4c55-84f7-db813cba4ebe button.colab-df-convert');\n",
              "        buttonEl.style.display =\n",
              "          google.colab.kernel.accessAllowed ? 'block' : 'none';\n",
              "\n",
              "        async function convertToInteractive(key) {\n",
              "          const element = document.querySelector('#df-2a6629a0-50ab-4c55-84f7-db813cba4ebe');\n",
              "          const dataTable =\n",
              "            await google.colab.kernel.invokeFunction('convertToInteractive',\n",
              "                                                     [key], {});\n",
              "          if (!dataTable) return;\n",
              "\n",
              "          const docLinkHtml = 'Like what you see? Visit the ' +\n",
              "            '<a target=\"_blank\" href=https://colab.research.google.com/notebooks/data_table.ipynb>data table notebook</a>'\n",
              "            + ' to learn more about interactive tables.';\n",
              "          element.innerHTML = '';\n",
              "          dataTable['output_type'] = 'display_data';\n",
              "          await google.colab.output.renderOutput(dataTable, element);\n",
              "          const docLink = document.createElement('div');\n",
              "          docLink.innerHTML = docLinkHtml;\n",
              "          element.appendChild(docLink);\n",
              "        }\n",
              "      </script>\n",
              "    </div>\n",
              "  </div>\n",
              "  "
            ]
          },
          "metadata": {},
          "execution_count": 26
        }
      ]
    },
    {
      "cell_type": "code",
      "source": [
        "del players\n",
        "del results\n",
        "del tournaments\n",
        "gc.collect()"
      ],
      "metadata": {
        "colab": {
          "base_uri": "https://localhost:8080/"
        },
        "id": "U4BZjAm7rUpE",
        "outputId": "8426c47e-51a1-4ff3-a0a2-9ecdb20fac1f"
      },
      "execution_count": null,
      "outputs": [
        {
          "output_type": "execute_result",
          "data": {
            "text/plain": [
              "0"
            ]
          },
          "metadata": {},
          "execution_count": 27
        }
      ]
    },
    {
      "cell_type": "code",
      "source": [
        "players_df[\"team_size\"] = players_df[\"team_size\"] / players_df[\"team_size\"].max()"
      ],
      "metadata": {
        "id": "wCTaYrginHBz"
      },
      "execution_count": null,
      "outputs": []
    },
    {
      "cell_type": "code",
      "source": [
        "lr = LogisticRegression()\n",
        "lr.fit(players_df.loc[:, ~players_df.columns.isin([\"id\", \"tour_&_quest_id\", \"answer\"])], players_df.loc[:, \"answer\"])"
      ],
      "metadata": {
        "id": "PkwVa1POG-A6",
        "colab": {
          "base_uri": "https://localhost:8080/"
        },
        "outputId": "4d61fcc7-36ca-41b6-eea2-266837e75827"
      },
      "execution_count": null,
      "outputs": [
        {
          "output_type": "execute_result",
          "data": {
            "text/plain": [
              "LogisticRegression()"
            ]
          },
          "metadata": {},
          "execution_count": 29
        }
      ]
    },
    {
      "cell_type": "code",
      "source": [
        "lr.score(players_df.loc[:, ~players_df.columns.isin([\"id\", \"tour_&_quest_id\", \"answer\"])], players_df.loc[:, \"answer\"])"
      ],
      "metadata": {
        "colab": {
          "base_uri": "https://localhost:8080/"
        },
        "id": "OhRDbEzJq3aI",
        "outputId": "2bebc301-2c7e-4e80-9bc7-aae367d3402b"
      },
      "execution_count": null,
      "outputs": [
        {
          "output_type": "execute_result",
          "data": {
            "text/plain": [
              "0.7634533050791483"
            ]
          },
          "metadata": {},
          "execution_count": 30
        }
      ]
    },
    {
      "cell_type": "code",
      "source": [
        "predictions = lr.predict_proba(players_df.loc[:, ~players_df.columns.isin([\"id\", \"tour_&_quest_id\", \"answer\"])])[:, 1]\n",
        "plt.hist(predictions, bins=\"auto\")\n",
        "plt.show()"
      ],
      "metadata": {
        "colab": {
          "base_uri": "https://localhost:8080/",
          "height": 265
        },
        "id": "YeQ75XyaoLt1",
        "outputId": "eea894e8-a34c-4810-d078-4b519f56520c"
      },
      "execution_count": null,
      "outputs": [
        {
          "output_type": "display_data",
          "data": {
            "text/plain": [
              "<Figure size 432x288 with 1 Axes>"
            ],
            "image/png": "[encoded data removed]"
          },
          "metadata": {
            "needs_background": "light"
          }
        }
      ]
    },
    {
      "cell_type": "markdown",
      "source": [
        "#### Predicting team strength"
      ],
      "metadata": {
        "id": "7-s64HhqynjJ"
      }
    },
    {
      "cell_type": "code",
      "source": [
        "players_df.head()"
      ],
      "metadata": {
        "colab": {
          "base_uri": "https://localhost:8080/",
          "height": 250
        },
        "id": "2t1mrWJL0Xuk",
        "outputId": "609b9633-7bd1-40ba-835c-aedde7c124cf"
      },
      "execution_count": null,
      "outputs": [
        {
          "output_type": "execute_result",
          "data": {
            "text/plain": [
              "     id tour_&_quest_id  player_score  quest_compl  team_pos  team_size  \\\n",
              "0  6212          4772_0      0.706069     0.116883  0.004329   0.189655   \n",
              "1  6212          4772_1      0.706069     0.220779  0.004329   0.189655   \n",
              "2  6212          4772_2      0.706069     0.554113  0.004329   0.189655   \n",
              "3  6212          4772_3      0.706069     0.480519  0.004329   0.189655   \n",
              "4  6212          4772_4      0.706069     0.121212  0.004329   0.189655   \n",
              "\n",
              "   answer  \n",
              "0     1.0  \n",
              "1     1.0  \n",
              "2     1.0  \n",
              "3     1.0  \n",
              "4     1.0  "
            ],
            "text/html": [
              "\n",
              "  <div id=\"df-295b5079-a1ac-40fc-b4c9-2a3dd237ab18\">\n",
              "    <div class=\"colab-df-container\">\n",
              "      <div>\n",
              "<style scoped>\n",
              "    .dataframe tbody tr th:only-of-type {\n",
              "        vertical-align: middle;\n",
              "    }\n",
              "\n",
              "    .dataframe tbody tr th {\n",
              "        vertical-align: top;\n",
              "    }\n",
              "\n",
              "    .dataframe thead th {\n",
              "        text-align: right;\n",
              "    }\n",
              "</style>\n",
              "<table border=\"1\" class=\"dataframe\">\n",
              "  <thead>\n",
              "    <tr style=\"text-align: right;\">\n",
              "      <th></th>\n",
              "      <th>id</th>\n",
              "      <th>tour_&amp;_quest_id</th>\n",
              "      <th>player_score</th>\n",
              "      <th>quest_compl</th>\n",
              "      <th>team_pos</th>\n",
              "      <th>team_size</th>\n",
              "      <th>answer</th>\n",
              "    </tr>\n",
              "  </thead>\n",
              "  <tbody>\n",
              "    <tr>\n",
              "      <th>0</th>\n",
              "      <td>6212</td>\n",
              "      <td>4772_0</td>\n",
              "      <td>0.706069</td>\n",
              "      <td>0.116883</td>\n",
              "      <td>0.004329</td>\n",
              "      <td>0.189655</td>\n",
              "      <td>1.0</td>\n",
              "    </tr>\n",
              "    <tr>\n",
              "      <th>1</th>\n",
              "      <td>6212</td>\n",
              "      <td>4772_1</td>\n",
              "      <td>0.706069</td>\n",
              "      <td>0.220779</td>\n",
              "      <td>0.004329</td>\n",
              "      <td>0.189655</td>\n",
              "      <td>1.0</td>\n",
              "    </tr>\n",
              "    <tr>\n",
              "      <th>2</th>\n",
              "      <td>6212</td>\n",
              "      <td>4772_2</td>\n",
              "      <td>0.706069</td>\n",
              "      <td>0.554113</td>\n",
              "      <td>0.004329</td>\n",
              "      <td>0.189655</td>\n",
              "      <td>1.0</td>\n",
              "    </tr>\n",
              "    <tr>\n",
              "      <th>3</th>\n",
              "      <td>6212</td>\n",
              "      <td>4772_3</td>\n",
              "      <td>0.706069</td>\n",
              "      <td>0.480519</td>\n",
              "      <td>0.004329</td>\n",
              "      <td>0.189655</td>\n",
              "      <td>1.0</td>\n",
              "    </tr>\n",
              "    <tr>\n",
              "      <th>4</th>\n",
              "      <td>6212</td>\n",
              "      <td>4772_4</td>\n",
              "      <td>0.706069</td>\n",
              "      <td>0.121212</td>\n",
              "      <td>0.004329</td>\n",
              "      <td>0.189655</td>\n",
              "      <td>1.0</td>\n",
              "    </tr>\n",
              "  </tbody>\n",
              "</table>\n",
              "</div>\n",
              "      <button class=\"colab-df-convert\" onclick=\"convertToInteractive('df-295b5079-a1ac-40fc-b4c9-2a3dd237ab18')\"\n",
              "              title=\"Convert this dataframe to an interactive table.\"\n",
              "              style=\"display:none;\">\n",
              "        \n",
              "  <svg xmlns=\"http://www.w3.org/2000/svg\" height=\"24px\"viewBox=\"0 0 24 24\"\n",
              "       width=\"24px\">\n",
              "    <path d=\"M0 0h24v24H0V0z\" fill=\"none\"/>\n",
              "    <path d=\"M18.56 5.44l.94 2.06.94-2.06 2.06-.94-2.06-.94-.94-2.06-.94 2.06-2.06.94zm-11 1L8.5 8.5l.94-2.06 2.06-.94-2.06-.94L8.5 2.5l-.94 2.06-2.06.94zm10 10l.94 2.06.94-2.06 2.06-.94-2.06-.94-.94-2.06-.94 2.06-2.06.94z\"/><path d=\"M17.41 7.96l-1.37-1.37c-.4-.4-.92-.59-1.43-.59-.52 0-1.04.2-1.43.59L10.3 9.45l-7.72 7.72c-.78.78-.78 2.05 0 2.83L4 21.41c.39.39.9.59 1.41.59.51 0 1.02-.2 1.41-.59l7.78-7.78 2.81-2.81c.8-.78.8-2.07 0-2.86zM5.41 20L4 18.59l7.72-7.72 1.47 1.35L5.41 20z\"/>\n",
              "  </svg>\n",
              "      </button>\n",
              "      \n",
              "  <style>\n",
              "    .colab-df-container {\n",
              "      display:flex;\n",
              "      flex-wrap:wrap;\n",
              "      gap: 12px;\n",
              "    }\n",
              "\n",
              "    .colab-df-convert {\n",
              "      background-color: #E8F0FE;\n",
              "      border: none;\n",
              "      border-radius: 50%;\n",
              "      cursor: pointer;\n",
              "      display: none;\n",
              "      fill: #1967D2;\n",
              "      height: 32px;\n",
              "      padding: 0 0 0 0;\n",
              "      width: 32px;\n",
              "    }\n",
              "\n",
              "    .colab-df-convert:hover {\n",
              "      background-color: #E2EBFA;\n",
              "      box-shadow: 0px 1px 2px rgba(60, 64, 67, 0.3), 0px 1px 3px 1px rgba(60, 64, 67, 0.15);\n",
              "      fill: #174EA6;\n",
              "    }\n",
              "\n",
              "    [theme=dark] .colab-df-convert {\n",
              "      background-color: #3B4455;\n",
              "      fill: #D2E3FC;\n",
              "    }\n",
              "\n",
              "    [theme=dark] .colab-df-convert:hover {\n",
              "      background-color: #434B5C;\n",
              "      box-shadow: 0px 1px 3px 1px rgba(0, 0, 0, 0.15);\n",
              "      filter: drop-shadow(0px 1px 2px rgba(0, 0, 0, 0.3));\n",
              "      fill: #FFFFFF;\n",
              "    }\n",
              "  </style>\n",
              "\n",
              "      <script>\n",
              "        const buttonEl =\n",
              "          document.querySelector('#df-295b5079-a1ac-40fc-b4c9-2a3dd237ab18 button.colab-df-convert');\n",
              "        buttonEl.style.display =\n",
              "          google.colab.kernel.accessAllowed ? 'block' : 'none';\n",
              "\n",
              "        async function convertToInteractive(key) {\n",
              "          const element = document.querySelector('#df-295b5079-a1ac-40fc-b4c9-2a3dd237ab18');\n",
              "          const dataTable =\n",
              "            await google.colab.kernel.invokeFunction('convertToInteractive',\n",
              "                                                     [key], {});\n",
              "          if (!dataTable) return;\n",
              "\n",
              "          const docLinkHtml = 'Like what you see? Visit the ' +\n",
              "            '<a target=\"_blank\" href=https://colab.research.google.com/notebooks/data_table.ipynb>data table notebook</a>'\n",
              "            + ' to learn more about interactive tables.';\n",
              "          element.innerHTML = '';\n",
              "          dataTable['output_type'] = 'display_data';\n",
              "          await google.colab.output.renderOutput(dataTable, element);\n",
              "          const docLink = document.createElement('div');\n",
              "          docLink.innerHTML = docLinkHtml;\n",
              "          element.appendChild(docLink);\n",
              "        }\n",
              "      </script>\n",
              "    </div>\n",
              "  </div>\n",
              "  "
            ]
          },
          "metadata": {},
          "execution_count": 32
        }
      ]
    },
    {
      "cell_type": "code",
      "source": [
        "player_id_to_pred_df = players_df.loc[:, [\"id\"]]\n",
        "player_id_to_pred_df[\"prob\"] = predictions\n",
        "player_id_to_pred_dict = player_id_to_pred_df.groupby([\"id\"])[\"prob\"].mean().to_dict()"
      ],
      "metadata": {
        "id": "vwviqT8i0QjC"
      },
      "execution_count": null,
      "outputs": []
    },
    {
      "cell_type": "markdown",
      "source": [
        ""
      ],
      "metadata": {
        "id": "_BXc0kr01lrE"
      }
    },
    {
      "cell_type": "code",
      "source": [
        "results = pickle.load(open(\"/content/drive/MyDrive/MADE/2_полугодие_MADE/Advanced_ML/hw2/results.pkl\", \"rb\"))"
      ],
      "metadata": {
        "id": "6d1sPQab3Swt"
      },
      "execution_count": null,
      "outputs": []
    },
    {
      "cell_type": "code",
      "source": [
        "%%time\n",
        "spearman_correlations = []\n",
        "kendall_correlations = []\n",
        "for id in tournaments_test:\n",
        "    team_strength = []\n",
        "    for info in results[id]:\n",
        "        try:\n",
        "            team_strength.append(np.mean(list(map(lambda x: player_id_to_pred_dict[x[\"player\"][\"id\"]], info[\"teamMembers\"]))))\n",
        "        except KeyError:\n",
        "            continue\n",
        "    team_strength_argsorted = np.array(team_strength).argsort()[::-1]\n",
        "    ranks = np.empty_like(team_strength_argsorted)\n",
        "    ranks[team_strength_argsorted] = np.arange(1, len(team_strength) + 1)\n",
        "    spearman_corr = spearmanr(range(1, len(team_strength) + 1), ranks)[0]\n",
        "    kendall_corr = kendalltau(range(1, len(team_strength) + 1), ranks)[0]\n",
        "    if not np.isnan(spearman_corr):\n",
        "        spearman_correlations.append(spearman_corr)\n",
        "    if not np.isnan(kendall_corr):\n",
        "        kendall_correlations.append(kendall_corr)"
      ],
      "metadata": {
        "colab": {
          "base_uri": "https://localhost:8080/"
        },
        "id": "yCFeJMdOzyYw",
        "outputId": "3019d0f7-5607-4019-cdbb-fd2a0e080fde"
      },
      "execution_count": null,
      "outputs": [
        {
          "output_type": "stream",
          "name": "stderr",
          "text": [
            "/usr/local/lib/python3.7/dist-packages/numpy/core/fromnumeric.py:3441: RuntimeWarning: Mean of empty slice.\n",
            "  out=out, **kwargs)\n",
            "/usr/local/lib/python3.7/dist-packages/numpy/core/_methods.py:189: RuntimeWarning: invalid value encountered in double_scalars\n",
            "  ret = ret.dtype.type(ret / rcount)\n"
          ]
        },
        {
          "output_type": "stream",
          "name": "stdout",
          "text": [
            "CPU times: user 582 ms, sys: 3.7 ms, total: 586 ms\n",
            "Wall time: 591 ms\n"
          ]
        }
      ]
    },
    {
      "cell_type": "code",
      "source": [
        "np.mean(spearman_correlations), np.mean(kendall_correlations)"
      ],
      "metadata": {
        "colab": {
          "base_uri": "https://localhost:8080/"
        },
        "id": "L1OuQo9J5Axw",
        "outputId": "8d6d6469-7a50-4096-d56e-d5d35debb659"
      },
      "execution_count": null,
      "outputs": [
        {
          "output_type": "execute_result",
          "data": {
            "text/plain": [
              "(0.6324967865623593, 0.47618407014003)"
            ]
          },
          "metadata": {},
          "execution_count": 36
        }
      ]
    },
    {
      "cell_type": "markdown",
      "source": [
        "#### EM algorithm"
      ],
      "metadata": {
        "id": "jmAfkWUQDt7R"
      }
    },
    {
      "cell_type": "code",
      "source": [
        ""
      ],
      "metadata": {
        "id": "nxOJgeOA5dqB"
      },
      "execution_count": null,
      "outputs": []
    },
    {
      "cell_type": "code",
      "source": [
        ""
      ],
      "metadata": {
        "id": "nb-8NIqmD9U3"
      },
      "execution_count": null,
      "outputs": []
    }
  ]
}